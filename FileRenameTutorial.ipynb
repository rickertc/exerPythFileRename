{
 "cells": [
  {
   "cell_type": "markdown",
   "source": [],
   "metadata": {}
  },
  {
   "cell_type": "code",
   "execution_count": 6,
   "source": [
    "import os\r\n"
   ],
   "outputs": [],
   "metadata": {}
  },
  {
   "cell_type": "code",
   "execution_count": 10,
   "source": [
    "os.chdir('/Users/ricke/OneDrive/Desktop/MyProjects2')"
   ],
   "outputs": [],
   "metadata": {}
  },
  {
   "cell_type": "code",
   "execution_count": 11,
   "source": [
    "print(os.getcwd())"
   ],
   "outputs": [
    {
     "output_type": "stream",
     "name": "stdout",
     "text": [
      "c:\\Users\\ricke\\OneDrive\\Desktop\\MyProjects2\n"
     ]
    }
   ],
   "metadata": {}
  },
  {
   "cell_type": "code",
   "execution_count": 23,
   "source": [
    "for f in os.listdir():\r\n",
    "    print(f)\r\n",
    "    "
   ],
   "outputs": [
    {
     "output_type": "stream",
     "name": "stdout",
     "text": [
      "Earth - Our solar system - #4.txt.txt\n",
      "exerPythFileRename\n",
      "Jupiter - Our solar system - #6.txt.txt\n",
      "Mars - Our solar system - #5.txt.txt\n",
      "Mercury - Our solar system - #2.txt.txt\n",
      "Neptune - Our solar system - #8.txt.txt\n",
      "Pluto - Our solar system - #10.txt.txt\n",
      "Saturn - Our solar system - #7.txt.txt\n",
      "The Sun - Our solar system - #1.txt.txt\n",
      "Uranus - Our solar system - #9.txt.txt\n",
      "Venus - Our solar system - #3.txt.txt\n"
     ]
    }
   ],
   "metadata": {}
  },
  {
   "cell_type": "code",
   "execution_count": 26,
   "source": [
    "for f in os.listdir():\r\n",
    "    print(os.path.splitext(f))"
   ],
   "outputs": [
    {
     "output_type": "stream",
     "name": "stdout",
     "text": [
      "('Earth - Our solar system - #4.txt', '.txt')\n",
      "('exerPythFileRename', '')\n",
      "('Jupiter - Our solar system - #6.txt', '.txt')\n",
      "('Mars - Our solar system - #5.txt', '.txt')\n",
      "('Mercury - Our solar system - #2.txt', '.txt')\n",
      "('Neptune - Our solar system - #8.txt', '.txt')\n",
      "('Pluto - Our solar system - #10.txt', '.txt')\n",
      "('Saturn - Our solar system - #7.txt', '.txt')\n",
      "('The Sun - Our solar system - #1.txt', '.txt')\n",
      "('Uranus - Our solar system - #9.txt', '.txt')\n",
      "('Venus - Our solar system - #3.txt', '.txt')\n"
     ]
    }
   ],
   "metadata": {}
  },
  {
   "cell_type": "code",
   "execution_count": 28,
   "source": [
    "for f in os.listdir():\r\n",
    "    file_name, file_ext = os.path.splitext(f)\r\n",
    "    print(file_name)"
   ],
   "outputs": [
    {
     "output_type": "stream",
     "name": "stdout",
     "text": [
      "Earth - Our solar system - #4.txt\n",
      "exerPythFileRename\n",
      "Jupiter - Our solar system - #6.txt\n",
      "Mars - Our solar system - #5.txt\n",
      "Mercury - Our solar system - #2.txt\n",
      "Neptune - Our solar system - #8.txt\n",
      "Pluto - Our solar system - #10.txt\n",
      "Saturn - Our solar system - #7.txt\n",
      "The Sun - Our solar system - #1.txt\n",
      "Uranus - Our solar system - #9.txt\n",
      "Venus - Our solar system - #3.txt\n"
     ]
    }
   ],
   "metadata": {}
  },
  {
   "cell_type": "code",
   "execution_count": 31,
   "source": [
    "for f in os.listdir():\r\n",
    "    file_name, file_ext = os.path.splitext(f)\r\n",
    "    print(file_name.split('-'))"
   ],
   "outputs": [
    {
     "output_type": "stream",
     "name": "stdout",
     "text": [
      "['Earth ', ' Our solar system ', ' #4.txt']\n",
      "['exerPythFileRename']\n",
      "['Jupiter ', ' Our solar system ', ' #6.txt']\n",
      "['Mars ', ' Our solar system ', ' #5.txt']\n",
      "['Mercury ', ' Our solar system ', ' #2.txt']\n",
      "['Neptune ', ' Our solar system ', ' #8.txt']\n",
      "['Pluto ', ' Our solar system ', ' #10.txt']\n",
      "['Saturn ', ' Our solar system ', ' #7.txt']\n",
      "['The Sun ', ' Our solar system ', ' #1.txt']\n",
      "['Uranus ', ' Our solar system ', ' #9.txt']\n",
      "['Venus ', ' Our solar system ', ' #3.txt']\n"
     ]
    }
   ],
   "metadata": {}
  },
  {
   "cell_type": "code",
   "execution_count": 51,
   "source": [
    "for f in os.listdir():\r\n",
    "    file_name, file_ext = os.path.splitext(f)\r\n",
    "\r\n",
    "    f_title, f_course, f_num = file_name.split('-') "
   ],
   "outputs": [
    {
     "output_type": "error",
     "ename": "ValueError",
     "evalue": "not enough values to unpack (expected 3, got 1)",
     "traceback": [
      "\u001b[1;31m---------------------------------------------------------------------------\u001b[0m",
      "\u001b[1;31mValueError\u001b[0m                                Traceback (most recent call last)",
      "\u001b[1;32m<ipython-input-51-bbafd983dc1a>\u001b[0m in \u001b[0;36m<module>\u001b[1;34m\u001b[0m\n\u001b[0;32m      2\u001b[0m     \u001b[0mfile_name\u001b[0m\u001b[1;33m,\u001b[0m \u001b[0mfile_ext\u001b[0m \u001b[1;33m=\u001b[0m \u001b[0mos\u001b[0m\u001b[1;33m.\u001b[0m\u001b[0mpath\u001b[0m\u001b[1;33m.\u001b[0m\u001b[0msplitext\u001b[0m\u001b[1;33m(\u001b[0m\u001b[0mf\u001b[0m\u001b[1;33m)\u001b[0m\u001b[1;33m\u001b[0m\u001b[1;33m\u001b[0m\u001b[0m\n\u001b[0;32m      3\u001b[0m \u001b[1;33m\u001b[0m\u001b[0m\n\u001b[1;32m----> 4\u001b[1;33m     \u001b[0mf_title\u001b[0m\u001b[1;33m,\u001b[0m \u001b[0mf_course\u001b[0m\u001b[1;33m,\u001b[0m \u001b[0mf_num\u001b[0m \u001b[1;33m=\u001b[0m \u001b[0mfile_name\u001b[0m\u001b[1;33m.\u001b[0m\u001b[0msplit\u001b[0m\u001b[1;33m(\u001b[0m\u001b[1;34m'-'\u001b[0m\u001b[1;33m)\u001b[0m\u001b[1;33m\u001b[0m\u001b[1;33m\u001b[0m\u001b[0m\n\u001b[0m",
      "\u001b[1;31mValueError\u001b[0m: not enough values to unpack (expected 3, got 1)"
     ]
    }
   ],
   "metadata": {}
  },
  {
   "cell_type": "code",
   "execution_count": 53,
   "source": [
    "os.chdir('/Users/ricke/OneDrive/Desktop/TEST')"
   ],
   "outputs": [],
   "metadata": {}
  },
  {
   "cell_type": "code",
   "execution_count": 57,
   "source": [
    "for f in os.listdir():\r\n",
    "    file_name, file_ext = os.path.splitext(f)\r\n",
    "\r\n",
    "    f_title, f_course, f_num = file_name.split('-') "
   ],
   "outputs": [],
   "metadata": {}
  },
  {
   "cell_type": "code",
   "execution_count": 61,
   "source": [
    "for f in os.listdir():\r\n",
    "    file_name, file_ext = os.path.splitext(f)\r\n",
    "\r\n",
    "    f_title, f_course, f_num = file_name.split('-')\r\n",
    "    print(f_title)"
   ],
   "outputs": [
    {
     "output_type": "stream",
     "name": "stdout",
     "text": [
      "Earth \n",
      "Jupiter \n",
      "Mars \n",
      "Mercury \n",
      "Neptune \n",
      "Pluto \n",
      "Saturn \n",
      "The Sun \n",
      "Uranus \n",
      "Venus \n"
     ]
    }
   ],
   "metadata": {}
  },
  {
   "cell_type": "code",
   "execution_count": 63,
   "source": [
    "for f in os.listdir():\r\n",
    "    file_name, file_ext = os.path.splitext(f)\r\n",
    "\r\n",
    "    f_title, f_course, f_num = file_name.split('-')\r\n",
    "    print(f_course)"
   ],
   "outputs": [
    {
     "output_type": "stream",
     "name": "stdout",
     "text": [
      " Our solar system \n",
      " Our solar system \n",
      " Our solar system \n",
      " Our solar system \n",
      " Our solar system \n",
      " Our solar system \n",
      " Our solar system \n",
      " Our solar system \n",
      " Our solar system \n",
      " Our solar system \n"
     ]
    }
   ],
   "metadata": {}
  },
  {
   "cell_type": "code",
   "execution_count": 64,
   "source": [
    "for f in os.listdir():\r\n",
    "    file_name, file_ext = os.path.splitext(f)\r\n",
    "\r\n",
    "    f_title, f_course, f_num = file_name.split('-')\r\n",
    "    print(f_num)"
   ],
   "outputs": [
    {
     "output_type": "stream",
     "name": "stdout",
     "text": [
      " #4.txt\n",
      " #6.txt\n",
      " #5.txt\n",
      " #2.txt\n",
      " #8.txt\n",
      " #10.txt\n",
      " #7.txt\n",
      " #1.txt\n",
      " #9.txt\n",
      " #3.txt\n"
     ]
    }
   ],
   "metadata": {}
  },
  {
   "cell_type": "code",
   "execution_count": 83,
   "source": [
    "for f in os.listdir():\r\n",
    "    file_name, file_ext = os.path.splitext(f)\r\n",
    "\r\n",
    "    f_title, f_course, f_num = file_name.split('-')\r\n",
    "    print('{}-{}-{}{}'.format(f_num, f_course, f_title, file_ext))"
   ],
   "outputs": [
    {
     "output_type": "stream",
     "name": "stdout",
     "text": [
      " #4.txt- Our solar system -Earth .txt\n",
      " #6.txt- Our solar system -Jupiter .txt\n",
      " #5.txt- Our solar system -Mars .txt\n",
      " #2.txt- Our solar system -Mercury .txt\n",
      " #8.txt- Our solar system -Neptune .txt\n",
      " #10.txt- Our solar system -Pluto .txt\n",
      " #7.txt- Our solar system -Saturn .txt\n",
      " #1.txt- Our solar system -The Sun .txt\n",
      " #9.txt- Our solar system -Uranus .txt\n",
      " #3.txt- Our solar system -Venus .txt\n"
     ]
    }
   ],
   "metadata": {}
  },
  {
   "cell_type": "code",
   "execution_count": 85,
   "source": [
    "for f in os.listdir():\r\n",
    "    file_name, file_ext = os.path.splitext(f)\r\n",
    "\r\n",
    "    f_title, f_course, f_num = file_name.split('-')\r\n",
    "    print('{}-{}-{}{}'.format(f_num, f_course, f_title, file_ext))"
   ],
   "outputs": [
    {
     "output_type": "stream",
     "name": "stdout",
     "text": [
      " #4.txt- Our solar system -Earth .txt\n",
      " #6.txt- Our solar system -Jupiter .txt\n",
      " #5.txt- Our solar system -Mars .txt\n",
      " #2.txt- Our solar system -Mercury .txt\n",
      " #8.txt- Our solar system -Neptune .txt\n",
      " #10.txt- Our solar system -Pluto .txt\n",
      " #7.txt- Our solar system -Saturn .txt\n",
      " #1.txt- Our solar system -The Sun .txt\n",
      " #9.txt- Our solar system -Uranus .txt\n",
      " #3.txt- Our solar system -Venus .txt\n"
     ]
    }
   ],
   "metadata": {}
  },
  {
   "cell_type": "code",
   "execution_count": 86,
   "source": [
    "for f in os.listdir():\r\n",
    "    file_name, file_ext = os.path.splitext(f)\r\n",
    "\r\n",
    "    f_title, f_course, f_num = file_name.split('-')\r\n",
    "\r\n",
    "    f_title = f_title.strip()\r\n",
    "    f_course = f_course.strip() \r\n",
    "    f_num =  f_num.strip()\r\n",
    "\r\n",
    "    print('{}-{}-{}{}'.format(f_num, f_course, f_title, file_ext))"
   ],
   "outputs": [
    {
     "output_type": "stream",
     "name": "stdout",
     "text": [
      "#4.txt-Our solar system-Earth.txt\n",
      "#6.txt-Our solar system-Jupiter.txt\n",
      "#5.txt-Our solar system-Mars.txt\n",
      "#2.txt-Our solar system-Mercury.txt\n",
      "#8.txt-Our solar system-Neptune.txt\n",
      "#10.txt-Our solar system-Pluto.txt\n",
      "#7.txt-Our solar system-Saturn.txt\n",
      "#1.txt-Our solar system-The Sun.txt\n",
      "#9.txt-Our solar system-Uranus.txt\n",
      "#3.txt-Our solar system-Venus.txt\n"
     ]
    }
   ],
   "metadata": {}
  },
  {
   "cell_type": "code",
   "execution_count": 88,
   "source": [
    "for f in os.listdir():\r\n",
    "    file_name, file_ext = os.path.splitext(f)\r\n",
    "\r\n",
    "    f_title, f_course, f_num = file_name.split('-')\r\n",
    "\r\n",
    "    f_title = f_title.strip()\r\n",
    "    f_course = f_course.strip() \r\n",
    "    f_num =  f_num.strip()[1:]\r\n",
    "\r\n",
    "    print('{}-{}-{}{}'.format(f_num, f_course, f_title, file_ext))"
   ],
   "outputs": [
    {
     "output_type": "stream",
     "name": "stdout",
     "text": [
      "4.txt-Our solar system-Earth.txt\n",
      "6.txt-Our solar system-Jupiter.txt\n",
      "5.txt-Our solar system-Mars.txt\n",
      "2.txt-Our solar system-Mercury.txt\n",
      "8.txt-Our solar system-Neptune.txt\n",
      "10.txt-Our solar system-Pluto.txt\n",
      "7.txt-Our solar system-Saturn.txt\n",
      "1.txt-Our solar system-The Sun.txt\n",
      "9.txt-Our solar system-Uranus.txt\n",
      "3.txt-Our solar system-Venus.txt\n"
     ]
    }
   ],
   "metadata": {}
  },
  {
   "cell_type": "code",
   "execution_count": 92,
   "source": [
    "for f in os.listdir():\r\n",
    "    file_name, file_ext = os.path.splitext(f)\r\n",
    "\r\n",
    "    f_title, f_course, f_num = file_name.split('-')\r\n",
    "\r\n",
    "    f_title = f_title.strip()\r\n",
    "    f_course = f_course.strip() \r\n",
    "    f_num =  f_num.strip()[1:].zfill(2)\r\n",
    "\r\n",
    "    print('{}-{}-{}{}'.format(f_num, f_course, f_title, file_ext))"
   ],
   "outputs": [
    {
     "output_type": "stream",
     "name": "stdout",
     "text": [
      "4.txt-Our solar system-Earth.txt\n",
      "6.txt-Our solar system-Jupiter.txt\n",
      "5.txt-Our solar system-Mars.txt\n",
      "2.txt-Our solar system-Mercury.txt\n",
      "8.txt-Our solar system-Neptune.txt\n",
      "10.txt-Our solar system-Pluto.txt\n",
      "7.txt-Our solar system-Saturn.txt\n",
      "1.txt-Our solar system-The Sun.txt\n",
      "9.txt-Our solar system-Uranus.txt\n",
      "3.txt-Our solar system-Venus.txt\n"
     ]
    }
   ],
   "metadata": {}
  },
  {
   "cell_type": "code",
   "execution_count": 93,
   "source": [
    "for f in os.listdir():\r\n",
    "    file_name, file_ext = os.path.splitext(f)\r\n",
    "\r\n",
    "    f_title, f_course, f_num = file_name.split('-')\r\n",
    "\r\n",
    "    f_title = f_title.strip()\r\n",
    "    f_course = f_course.strip() \r\n",
    "    f_num =  f_num.strip()[1:].zfill(2)\r\n",
    "\r\n",
    "    print('{}-{}{}'.format(f_num, f_title, file_ext))"
   ],
   "outputs": [
    {
     "output_type": "stream",
     "name": "stdout",
     "text": [
      "4.txt-Earth.txt\n",
      "6.txt-Jupiter.txt\n",
      "5.txt-Mars.txt\n",
      "2.txt-Mercury.txt\n",
      "8.txt-Neptune.txt\n",
      "10.txt-Pluto.txt\n",
      "7.txt-Saturn.txt\n",
      "1.txt-The Sun.txt\n",
      "9.txt-Uranus.txt\n",
      "3.txt-Venus.txt\n"
     ]
    }
   ],
   "metadata": {}
  },
  {
   "cell_type": "code",
   "execution_count": 95,
   "source": [
    "for f in os.listdir():\r\n",
    "    file_name, file_ext = os.path.splitext(f)\r\n",
    "\r\n",
    "    f_title, f_course, f_num = file_name.split('-')\r\n",
    "\r\n",
    "    f_title = f_title.strip()\r\n",
    "    f_course = f_course.strip() \r\n",
    "    f_num =  f_num.strip()[1:].zfill(2)\r\n",
    "\r\n",
    "    new_name = '{}-{}{}'.format(f_num, f_title, file_ext)\r\n",
    "    os.rename(f, new_name)"
   ],
   "outputs": [],
   "metadata": {}
  }
 ],
 "metadata": {
  "orig_nbformat": 4,
  "language_info": {
   "name": "python",
   "version": "3.8.8",
   "mimetype": "text/x-python",
   "codemirror_mode": {
    "name": "ipython",
    "version": 3
   },
   "pygments_lexer": "ipython3",
   "nbconvert_exporter": "python",
   "file_extension": ".py"
  },
  "kernelspec": {
   "name": "python3",
   "display_name": "Python 3.8.8 64-bit"
  },
  "interpreter": {
   "hash": "b24804640be9cf0dda5d6040db16a825fde7cfd04c2d19cecfe917b504265dad"
  }
 },
 "nbformat": 4,
 "nbformat_minor": 2
}